{
 "cells": [
  {
   "cell_type": "code",
   "execution_count": 2,
   "id": "269eaec8",
   "metadata": {},
   "outputs": [],
   "source": [
    "import pandas as pd\n",
    "import pickle\n",
    "import seaborn as sns\n",
    "import matplotlib.pyplot as plt\n"
   ]
  },
  {
   "cell_type": "code",
   "execution_count": 3,
   "id": "c9f0fe34",
   "metadata": {},
   "outputs": [
    {
     "name": "stdout",
     "output_type": "stream",
     "text": [
      "Python 3.9.20\n"
     ]
    }
   ],
   "source": [
    "!python -V"
   ]
  },
  {
   "cell_type": "code",
   "execution_count": 4,
   "id": "ada96b9a",
   "metadata": {},
   "outputs": [],
   "source": [
    "from sklearn.feature_extraction import DictVectorizer\n",
    "from sklearn.linear_model import LinearRegression\n",
    "from sklearn.linear_model import Lasso\n",
    "from sklearn.linear_model import Ridge\n",
    "from sklearn.metrics import mean_squared_error\n",
    "\n"
   ]
  },
  {
   "cell_type": "code",
   "execution_count": 19,
   "id": "40e06602",
   "metadata": {},
   "outputs": [
    {
     "data": {
      "text/plain": [
       "<Experiment: artifact_location='/workspaces/mlops-zoomcamp/03-training/experiment_tracking/mlruns/4', creation_time=1733506662911, experiment_id='4', last_update_time=1733506662911, lifecycle_stage='active', name='nyc-taxi-experiment_2', tags={}>"
      ]
     },
     "execution_count": 19,
     "metadata": {},
     "output_type": "execute_result"
    }
   ],
   "source": [
    "import mlflow\n",
    "\n",
    "mlflow.set_tracking_uri(\"sqlite:///mlflow.db\")\n",
    "\n",
    "mlflow.set_experiment(\"nyc-taxi-experiment_2\")\n",
    "\n"
   ]
  },
  {
   "cell_type": "code",
   "execution_count": 5,
   "id": "3d939b85",
   "metadata": {},
   "outputs": [],
   "source": [
    "def read_dataframe(filename):\n",
    "    df = pd.read_parquet(filename)\n",
    "\n",
    "    df.lpep_dropoff_datetime = pd.to_datetime(df.lpep_dropoff_datetime)\n",
    "    df.lpep_pickup_datetime = pd.to_datetime(df.lpep_pickup_datetime)\n",
    "    \n",
    "    df['duration'] = df.lpep_dropoff_datetime - df.lpep_pickup_datetime\n",
    "    df['duration'] = df.duration.apply(lambda td: td.total_seconds() / 60 )\n",
    "    \n",
    "    df = df[(df.duration >= 1) & (df.duration <= 60)]\n",
    "    \n",
    "    categorical = ['PULocationID', 'DOLocationID']    \n",
    "    \n",
    "    df[categorical] = df[categorical].astype(str)\n",
    "    \n",
    "    return df"
   ]
  },
  {
   "cell_type": "code",
   "execution_count": 6,
   "id": "f1a56d05",
   "metadata": {},
   "outputs": [],
   "source": [
    "df_train = read_dataframe('data/green_tripdata_2021-01.parquet')\n",
    "df_val = read_dataframe('data/green_tripdata_2021-02.parquet')"
   ]
  },
  {
   "cell_type": "code",
   "execution_count": 7,
   "id": "b6d6f97d",
   "metadata": {},
   "outputs": [
    {
     "data": {
      "text/plain": [
       "(73908, 61921)"
      ]
     },
     "execution_count": 7,
     "metadata": {},
     "output_type": "execute_result"
    }
   ],
   "source": [
    "len(df_train), len(df_val)"
   ]
  },
  {
   "cell_type": "code",
   "execution_count": 8,
   "id": "f00e206a",
   "metadata": {},
   "outputs": [],
   "source": [
    "df_train['PU_DO'] = df_train['PULocationID'] + '_' + df_train['DOLocationID']\n",
    "df_val['PU_DO'] = df_val['PULocationID'] + '_' + df_val['DOLocationID']"
   ]
  },
  {
   "cell_type": "code",
   "execution_count": 9,
   "id": "f56795d8",
   "metadata": {},
   "outputs": [],
   "source": [
    "categorical = ['PU_DO'] #['PULocationID', 'DOLocationID']\n",
    "numerical = ['trip_distance']\n",
    "\n",
    "dv = DictVectorizer()\n",
    "\n",
    "train_dicts = df_train[categorical + numerical].to_dict(orient='records')\n",
    "X_train = dv.fit_transform(train_dicts)\n",
    "\n",
    "val_dicts = df_val[categorical + numerical].to_dict(orient='records')\n",
    "X_val = dv.transform(val_dicts)\n"
   ]
  },
  {
   "cell_type": "code",
   "execution_count": 10,
   "id": "e7fa5119",
   "metadata": {},
   "outputs": [],
   "source": [
    "target = 'duration'\n",
    "y_train = df_train[target].values\n",
    "y_val = df_val[target].values"
   ]
  },
  {
   "cell_type": "code",
   "execution_count": 11,
   "id": "d996a19a",
   "metadata": {},
   "outputs": [
    {
     "name": "stderr",
     "output_type": "stream",
     "text": [
      "/home/codespace/anaconda3/envs/exp-tracking-env/lib/python3.9/site-packages/sklearn/metrics/_regression.py:492: FutureWarning: 'squared' is deprecated in version 1.4 and will be removed in 1.6. To calculate the root mean squared error, use the function'root_mean_squared_error'.\n",
      "  warnings.warn(\n"
     ]
    },
    {
     "data": {
      "text/plain": [
       "np.float64(7.758715208009878)"
      ]
     },
     "execution_count": 11,
     "metadata": {},
     "output_type": "execute_result"
    }
   ],
   "source": [
    "lr = LinearRegression()\n",
    "lr.fit(X_train,y_train)\n",
    "\n",
    "y_pred = lr.predict(X_val)\n",
    "mean_squared_error(y_val, y_pred, squared=False)"
   ]
  },
  {
   "cell_type": "code",
   "execution_count": 12,
   "id": "71ebec52",
   "metadata": {},
   "outputs": [
    {
     "name": "stderr",
     "output_type": "stream",
     "text": [
      "/home/codespace/anaconda3/envs/exp-tracking-env/lib/python3.9/site-packages/sklearn/metrics/_regression.py:492: FutureWarning: 'squared' is deprecated in version 1.4 and will be removed in 1.6. To calculate the root mean squared error, use the function'root_mean_squared_error'.\n",
      "  warnings.warn(\n"
     ]
    },
    {
     "data": {
      "text/plain": [
       "np.float64(7.70373515548786)"
      ]
     },
     "execution_count": 12,
     "metadata": {},
     "output_type": "execute_result"
    }
   ],
   "source": [
    "lr = Ridge()\n",
    "lr.fit(X_train,y_train)\n",
    "\n",
    "y_pred = lr.predict(X_val)\n",
    "mean_squared_error(y_val, y_pred, squared=False)"
   ]
  },
  {
   "cell_type": "code",
   "execution_count": 13,
   "id": "1fe4d3f3",
   "metadata": {},
   "outputs": [
    {
     "name": "stderr",
     "output_type": "stream",
     "text": [
      "/tmp/ipykernel_37456/1505421196.py:1: UserWarning: \n",
      "\n",
      "`distplot` is a deprecated function and will be removed in seaborn v0.14.0.\n",
      "\n",
      "Please adapt your code to use either `displot` (a figure-level function with\n",
      "similar flexibility) or `histplot` (an axes-level function for histograms).\n",
      "\n",
      "For a guide to updating your code to use the new functions, please see\n",
      "https://gist.github.com/mwaskom/de44147ed2974457ad6372750bbe5751\n",
      "\n",
      "  sns.distplot(y_pred, label='prediction')\n",
      "/tmp/ipykernel_37456/1505421196.py:2: UserWarning: \n",
      "\n",
      "`distplot` is a deprecated function and will be removed in seaborn v0.14.0.\n",
      "\n",
      "Please adapt your code to use either `displot` (a figure-level function with\n",
      "similar flexibility) or `histplot` (an axes-level function for histograms).\n",
      "\n",
      "For a guide to updating your code to use the new functions, please see\n",
      "https://gist.github.com/mwaskom/de44147ed2974457ad6372750bbe5751\n",
      "\n",
      "  sns.distplot(y_train, label='actual')\n"
     ]
    },
    {
     "data": {
      "text/plain": [
       "<matplotlib.legend.Legend at 0x7b0e92a06bb0>"
      ]
     },
     "execution_count": 13,
     "metadata": {},
     "output_type": "execute_result"
    },
    {
     "data": {
      "image/png": "[encoded data removed]",
      "text/plain": [
       "<Figure size 640x480 with 1 Axes>"
      ]
     },
     "metadata": {},
     "output_type": "display_data"
    }
   ],
   "source": [
    "sns.distplot(y_pred, label='prediction')\n",
    "sns.distplot(y_train, label='actual')\n",
    "plt.legend()"
   ]
  },
  {
   "cell_type": "code",
   "execution_count": 14,
   "id": "fb172c21",
   "metadata": {},
   "outputs": [],
   "source": [
    "with open('models/lin_reg.bin', 'wb') as f_out:\n",
    "    pickle.dump((dv,lr), f_out) #guardamos el diccionario vectorizado y el modelo"
   ]
  },
  {
   "cell_type": "code",
   "execution_count": 15,
   "id": "d89ce5d1",
   "metadata": {},
   "outputs": [],
   "source": [
    "mlflow.end_run()"
   ]
  },
  {
   "cell_type": "code",
   "execution_count": 16,
   "id": "399bb7e1",
   "metadata": {},
   "outputs": [
    {
     "name": "stderr",
     "output_type": "stream",
     "text": [
      "2024/12/09 10:10:42 INFO mlflow.tracking.fluent: Autologging successfully enabled for sklearn.\n",
      "2024/12/09 10:10:42 WARNING mlflow.sklearn: Failed to log training dataset information to MLflow Tracking. Reason: 'numpy.ndarray' object has no attribute 'toarray'\n"
     ]
    },
    {
     "ename": "",
     "evalue": "",
     "output_type": "error",
     "traceback": [
      "\u001b[1;31mThe Kernel crashed while executing code in the current cell or a previous cell. \n",
      "\u001b[1;31mPlease review the code in the cell(s) to identify a possible cause of the failure. \n",
      "\u001b[1;31mClick <a href='https://aka.ms/vscodeJupyterKernelCrash'>here</a> for more info. \n",
      "\u001b[1;31mView Jupyter <a href='command:jupyter.viewOutput'>log</a> for further details."
     ]
    }
   ],
   "source": [
    "mlflow.end_run()\n",
    "with mlflow.start_run():\n",
    "    mlflow.autolog()\n",
    "    \n",
    "    mlflow.set_tag(\"developer\", \"javier\")\n",
    "    \n",
    "    mlflow.log_param(\"train-data-path\", \"data/green_tripdata_2021-01.parquet\")\n",
    "    mlflow.log_param(\"valid-data-path\", \"data/green_tripdata_2021-02.parquet\")    \n",
    "    \n",
    "    \n",
    "    alpha= 0.1\n",
    "    mlflow.log_param(\"alpha\", alpha)\n",
    "    \n",
    "    lr = Lasso(alpha)\n",
    "    lr.fit(X_train,y_train)\n",
    "\n",
    "    y_pred = lr.predict(X_val)\n",
    "    rmse = mean_squared_error(y_val, y_pred, squared=False)\n",
    "    mlflow.log_metric(\"rmse\", rmse)\n",
    "    \n",
    "    mlflow.log_artifact(local_path= \"models/lin_reg.bin\", artifact_path= \"model_pickle\")"
   ]
  },
  {
   "cell_type": "code",
   "execution_count": 15,
   "id": "5c6625c3",
   "metadata": {},
   "outputs": [
    {
     "name": "stderr",
     "output_type": "stream",
     "text": [
      "2024/12/09 10:09:34 INFO mlflow.tracking.fluent: Autologging successfully enabled for sklearn.\n",
      "2024/12/09 10:09:34 WARNING mlflow.sklearn: Failed to log training dataset information to MLflow Tracking. Reason: 'numpy.ndarray' object has no attribute 'toarray'\n"
     ]
    },
    {
     "ename": "",
     "evalue": "",
     "output_type": "error",
     "traceback": [
      "\u001b[1;31mThe Kernel crashed while executing code in the current cell or a previous cell. \n",
      "\u001b[1;31mPlease review the code in the cell(s) to identify a possible cause of the failure. \n",
      "\u001b[1;31mClick <a href='https://aka.ms/vscodeJupyterKernelCrash'>here</a> for more info. \n",
      "\u001b[1;31mView Jupyter <a href='command:jupyter.viewOutput'>log</a> for further details."
     ]
    }
   ],
   "source": [
    "#Intentar registrar un modelo con linear regresion\n",
    "mlflow.end_run()\n",
    "with mlflow.start_run():\n",
    "    mlflow.autolog()\n",
    "    \n",
    "    mlflow.set_tag(\"developer\", \"javier\")\n",
    "    \n",
    "    mlflow.log_param(\"train-data-path\", \"data/green_tripdata_2021-01.parquet\")\n",
    "    mlflow.log_param(\"valid-data-path\", \"data/green_tripdata_2021-02.parquet\")    \n",
    "            \n",
    "    \n",
    "    lr = LinearRegression()\n",
    "    lr.fit(X_train,y_train)\n",
    "\n",
    "    y_pred = lr.predict(X_val)\n",
    "    rmse = mean_squared_error(y_val, y_pred, squared=False)\n",
    "    mlflow.log_metric(\"rmse\", rmse)\n",
    "    \n",
    "    mlflow.log_artifact(local_path= \"models/lin_reg.bin\", artifact_path= \"model_pickle\")"
   ]
  },
  {
   "cell_type": "code",
   "execution_count": 1,
   "id": "80493ebc",
   "metadata": {},
   "outputs": [
    {
     "ename": "NameError",
     "evalue": "name 'mlflow' is not defined",
     "output_type": "error",
     "traceback": [
      "\u001b[0;31m---------------------------------------------------------------------------\u001b[0m",
      "\u001b[0;31mNameError\u001b[0m                                 Traceback (most recent call last)",
      "Cell \u001b[0;32mIn[1], line 1\u001b[0m\n\u001b[0;32m----> 1\u001b[0m \u001b[43mmlflow\u001b[49m\u001b[38;5;241m.\u001b[39mend_run()\n",
      "\u001b[0;31mNameError\u001b[0m: name 'mlflow' is not defined"
     ]
    }
   ],
   "source": [
    "mlflow.end_run()"
   ]
  },
  {
   "cell_type": "code",
   "execution_count": null,
   "id": "8e1e3abb",
   "metadata": {},
   "outputs": [],
   "source": [
    "\n",
    "\n",
    "from hyperopt import fmin, tpe, hp, STATUS_OK, Trials\n",
    "from hyperopt.pyll import scope\n",
    "\n",
    "train = xgb.DMatrix(X_train, label=y_train)\n",
    "valid = xgb.DMatrix(X_val, label=y_val)\n",
    "\n",
    "def objective(params):\n",
    "    with mlflow.start_run():\n",
    "        mlflow.set_tag(\"model\", \"xgboost\")\n",
    "        mlflow.log_params(params)\n",
    "        booster = xgb.train(\n",
    "            params=params,\n",
    "            dtrain=train,\n",
    "            num_boost_round=1000,\n",
    "            evals=[(valid, 'validation')],\n",
    "            early_stopping_rounds=50\n",
    "        )\n",
    "        y_pred = booster.predict(valid)\n",
    "        rmse = mean_squared_error(y_val, y_pred, squared=False)\n",
    "        mlflow.log_metric(\"rmse\", rmse)\n",
    "\n",
    "    return {'loss': rmse, 'status': STATUS_OK}\n",
    "\n"
   ]
  },
  {
   "cell_type": "code",
   "execution_count": null,
   "id": "5e256c05",
   "metadata": {},
   "outputs": [],
   "source": [
    "search_space = {\n",
    "    'max_depth': scope.int(hp.quniform('max_depth', 4, 100, 1)),\n",
    "    'learning_rate': hp.loguniform('learning_rate', -3, 0), #exp(-3), exp(0) - [0,05 -1]\n",
    "    'reg_alpha': hp.loguniform('reg_alpha', -5, -1),\n",
    "    'reg_lambda': hp.loguniform('reg_lambda', -6, -1),\n",
    "    'min_child_weight': hp.loguniform('min_child_weight', -1, 3),\n",
    "    'objective': 'reg:linear',\n",
    "    'seed': 42\n",
    "}\n",
    "\n",
    "best_result = fmin(\n",
    "    fn=objective,\n",
    "    space=search_space,\n",
    "    algo=tpe.suggest,\n",
    "    max_evals=50,\n",
    "    trials=Trials()\n",
    ")"
   ]
  },
  {
   "cell_type": "code",
   "execution_count": 25,
   "id": "c08014f2",
   "metadata": {},
   "outputs": [],
   "source": [
    "mlflow.xgboost.autolog(disable=True)"
   ]
  },
  {
   "cell_type": "code",
   "execution_count": 28,
   "id": "4f01778c",
   "metadata": {},
   "outputs": [
    {
     "name": "stderr",
     "output_type": "stream",
     "text": [
      "/home/codespace/anaconda3/envs/exp-tracking-env/lib/python3.9/site-packages/xgboost/core.py:158: UserWarning: [09:57:34] WARNING: /workspace/src/objective/regression_obj.cu:227: reg:linear is now deprecated in favor of reg:squarederror.\n",
      "  warnings.warn(smsg, UserWarning)\n"
     ]
    },
    {
     "name": "stdout",
     "output_type": "stream",
     "text": [
      "[0]\tvalidation-rmse:11.44482\n",
      "[1]\tvalidation-rmse:10.77202\n",
      "[2]\tvalidation-rmse:10.18363\n",
      "[3]\tvalidation-rmse:9.67396\n",
      "[4]\tvalidation-rmse:9.23166\n",
      "[5]\tvalidation-rmse:8.84808\n",
      "[6]\tvalidation-rmse:8.51883\n"
     ]
    },
    {
     "ename": "KeyboardInterrupt",
     "evalue": "",
     "output_type": "error",
     "traceback": [
      "\u001b[0;31m---------------------------------------------------------------------------\u001b[0m",
      "\u001b[0;31mKeyboardInterrupt\u001b[0m                         Traceback (most recent call last)",
      "Cell \u001b[0;32mIn[28], line 19\u001b[0m\n\u001b[1;32m      7\u001b[0m     best_params \u001b[38;5;241m=\u001b[39m {\n\u001b[1;32m      8\u001b[0m     \u001b[38;5;124m'\u001b[39m\u001b[38;5;124mlearning_rate\u001b[39m\u001b[38;5;124m'\u001b[39m : \u001b[38;5;241m0.09585355369315604\u001b[39m,    \n\u001b[1;32m      9\u001b[0m     \u001b[38;5;124m'\u001b[39m\u001b[38;5;124mmax_depth\u001b[39m\u001b[38;5;124m'\u001b[39m: \u001b[38;5;241m30\u001b[39m,    \n\u001b[0;32m   (...)\u001b[0m\n\u001b[1;32m     14\u001b[0m     \u001b[38;5;124m'\u001b[39m\u001b[38;5;124mseed\u001b[39m\u001b[38;5;124m'\u001b[39m: \u001b[38;5;241m42\u001b[39m\n\u001b[1;32m     15\u001b[0m }\n\u001b[1;32m     17\u001b[0m mlflow\u001b[38;5;241m.\u001b[39mlog_params(best_params)\n\u001b[0;32m---> 19\u001b[0m booster \u001b[38;5;241m=\u001b[39m \u001b[43mxgb\u001b[49m\u001b[38;5;241;43m.\u001b[39;49m\u001b[43mtrain\u001b[49m\u001b[43m(\u001b[49m\n\u001b[1;32m     20\u001b[0m \u001b[43m    \u001b[49m\u001b[43mparams\u001b[49m\u001b[38;5;241;43m=\u001b[39;49m\u001b[43m \u001b[49m\u001b[43mbest_params\u001b[49m\u001b[43m,\u001b[49m\n\u001b[1;32m     21\u001b[0m \u001b[43m    \u001b[49m\u001b[43mdtrain\u001b[49m\u001b[38;5;241;43m=\u001b[39;49m\u001b[43mtrain\u001b[49m\u001b[43m,\u001b[49m\n\u001b[1;32m     22\u001b[0m \u001b[43m    \u001b[49m\u001b[43mnum_boost_round\u001b[49m\u001b[38;5;241;43m=\u001b[39;49m\u001b[38;5;241;43m1000\u001b[39;49m\u001b[43m,\u001b[49m\n\u001b[1;32m     23\u001b[0m \u001b[43m    \u001b[49m\u001b[43mevals\u001b[49m\u001b[38;5;241;43m=\u001b[39;49m\u001b[43m[\u001b[49m\u001b[43m(\u001b[49m\u001b[43mvalid\u001b[49m\u001b[43m,\u001b[49m\u001b[43m \u001b[49m\u001b[38;5;124;43m'\u001b[39;49m\u001b[38;5;124;43mvalidation\u001b[39;49m\u001b[38;5;124;43m'\u001b[39;49m\u001b[43m)\u001b[49m\u001b[43m]\u001b[49m\u001b[43m,\u001b[49m\n\u001b[1;32m     24\u001b[0m \u001b[43m    \u001b[49m\u001b[43mearly_stopping_rounds\u001b[49m\u001b[38;5;241;43m=\u001b[39;49m\u001b[38;5;241;43m50\u001b[39;49m\n\u001b[1;32m     25\u001b[0m \u001b[43m)\u001b[49m\n\u001b[1;32m     27\u001b[0m y_pred\u001b[38;5;241m=\u001b[39m booster\u001b[38;5;241m.\u001b[39mpredict(valid)\n\u001b[1;32m     28\u001b[0m rmse\u001b[38;5;241m=\u001b[39m mean_squared_error(y_val, y_pred, squared\u001b[38;5;241m=\u001b[39m\u001b[38;5;28;01mFalse\u001b[39;00m)\n",
      "File \u001b[0;32m~/anaconda3/envs/exp-tracking-env/lib/python3.9/site-packages/xgboost/core.py:726\u001b[0m, in \u001b[0;36mrequire_keyword_args.<locals>.throw_if.<locals>.inner_f\u001b[0;34m(*args, **kwargs)\u001b[0m\n\u001b[1;32m    724\u001b[0m \u001b[38;5;28;01mfor\u001b[39;00m k, arg \u001b[38;5;129;01min\u001b[39;00m \u001b[38;5;28mzip\u001b[39m(sig\u001b[38;5;241m.\u001b[39mparameters, args):\n\u001b[1;32m    725\u001b[0m     kwargs[k] \u001b[38;5;241m=\u001b[39m arg\n\u001b[0;32m--> 726\u001b[0m \u001b[38;5;28;01mreturn\u001b[39;00m \u001b[43mfunc\u001b[49m\u001b[43m(\u001b[49m\u001b[38;5;241;43m*\u001b[39;49m\u001b[38;5;241;43m*\u001b[39;49m\u001b[43mkwargs\u001b[49m\u001b[43m)\u001b[49m\n",
      "File \u001b[0;32m~/anaconda3/envs/exp-tracking-env/lib/python3.9/site-packages/xgboost/training.py:181\u001b[0m, in \u001b[0;36mtrain\u001b[0;34m(params, dtrain, num_boost_round, evals, obj, feval, maximize, early_stopping_rounds, evals_result, verbose_eval, xgb_model, callbacks, custom_metric)\u001b[0m\n\u001b[1;32m    179\u001b[0m \u001b[38;5;28;01mif\u001b[39;00m cb_container\u001b[38;5;241m.\u001b[39mbefore_iteration(bst, i, dtrain, evals):\n\u001b[1;32m    180\u001b[0m     \u001b[38;5;28;01mbreak\u001b[39;00m\n\u001b[0;32m--> 181\u001b[0m \u001b[43mbst\u001b[49m\u001b[38;5;241;43m.\u001b[39;49m\u001b[43mupdate\u001b[49m\u001b[43m(\u001b[49m\u001b[43mdtrain\u001b[49m\u001b[43m,\u001b[49m\u001b[43m \u001b[49m\u001b[43miteration\u001b[49m\u001b[38;5;241;43m=\u001b[39;49m\u001b[43mi\u001b[49m\u001b[43m,\u001b[49m\u001b[43m \u001b[49m\u001b[43mfobj\u001b[49m\u001b[38;5;241;43m=\u001b[39;49m\u001b[43mobj\u001b[49m\u001b[43m)\u001b[49m\n\u001b[1;32m    182\u001b[0m \u001b[38;5;28;01mif\u001b[39;00m cb_container\u001b[38;5;241m.\u001b[39mafter_iteration(bst, i, dtrain, evals):\n\u001b[1;32m    183\u001b[0m     \u001b[38;5;28;01mbreak\u001b[39;00m\n",
      "File \u001b[0;32m~/anaconda3/envs/exp-tracking-env/lib/python3.9/site-packages/xgboost/core.py:2101\u001b[0m, in \u001b[0;36mBooster.update\u001b[0;34m(self, dtrain, iteration, fobj)\u001b[0m\n\u001b[1;32m   2097\u001b[0m \u001b[38;5;28mself\u001b[39m\u001b[38;5;241m.\u001b[39m_assign_dmatrix_features(dtrain)\n\u001b[1;32m   2099\u001b[0m \u001b[38;5;28;01mif\u001b[39;00m fobj \u001b[38;5;129;01mis\u001b[39;00m \u001b[38;5;28;01mNone\u001b[39;00m:\n\u001b[1;32m   2100\u001b[0m     _check_call(\n\u001b[0;32m-> 2101\u001b[0m         \u001b[43m_LIB\u001b[49m\u001b[38;5;241;43m.\u001b[39;49m\u001b[43mXGBoosterUpdateOneIter\u001b[49m\u001b[43m(\u001b[49m\n\u001b[1;32m   2102\u001b[0m \u001b[43m            \u001b[49m\u001b[38;5;28;43mself\u001b[39;49m\u001b[38;5;241;43m.\u001b[39;49m\u001b[43mhandle\u001b[49m\u001b[43m,\u001b[49m\u001b[43m \u001b[49m\u001b[43mctypes\u001b[49m\u001b[38;5;241;43m.\u001b[39;49m\u001b[43mc_int\u001b[49m\u001b[43m(\u001b[49m\u001b[43miteration\u001b[49m\u001b[43m)\u001b[49m\u001b[43m,\u001b[49m\u001b[43m \u001b[49m\u001b[43mdtrain\u001b[49m\u001b[38;5;241;43m.\u001b[39;49m\u001b[43mhandle\u001b[49m\n\u001b[1;32m   2103\u001b[0m \u001b[43m        \u001b[49m\u001b[43m)\u001b[49m\n\u001b[1;32m   2104\u001b[0m     )\n\u001b[1;32m   2105\u001b[0m \u001b[38;5;28;01melse\u001b[39;00m:\n\u001b[1;32m   2106\u001b[0m     pred \u001b[38;5;241m=\u001b[39m \u001b[38;5;28mself\u001b[39m\u001b[38;5;241m.\u001b[39mpredict(dtrain, output_margin\u001b[38;5;241m=\u001b[39m\u001b[38;5;28;01mTrue\u001b[39;00m, training\u001b[38;5;241m=\u001b[39m\u001b[38;5;28;01mTrue\u001b[39;00m)\n",
      "\u001b[0;31mKeyboardInterrupt\u001b[0m: "
     ]
    }
   ],
   "source": [
    "import xgboost as xgb\n",
    "\n",
    "train = xgb.DMatrix(X_train, label=y_train)\n",
    "valid = xgb.DMatrix(X_val, label=y_val)\n",
    "\n",
    "with mlflow.start_run():\n",
    "    best_params = {\n",
    "    'learning_rate' : 0.09585355369315604,    \n",
    "    'max_depth': 30,    \n",
    "    'reg_alpha': 0.01806024404006163,\n",
    "    'reg_lambda': 0.011658731377413597,\n",
    "    'min_child_weight': 1.060597050922164 ,\n",
    "    'objective': 'reg:linear',\n",
    "    'seed': 42\n",
    "}\n",
    "    \n",
    "mlflow.log_params(best_params)\n",
    "\n",
    "booster = xgb.train(\n",
    "    params= best_params,\n",
    "    dtrain=train,\n",
    "    num_boost_round=1000,\n",
    "    evals=[(valid, 'validation')],\n",
    "    early_stopping_rounds=50\n",
    ")\n",
    "\n",
    "y_pred= booster.predict(valid)\n",
    "rmse= mean_squared_error(y_val, y_pred, squared=False)\n",
    "mlflow.log_metric(\"rmse\", rmse)\n",
    "\n",
    "with open(\"models/preprocessor.b\", \"wb\") as f_out:\n",
    "    pickle.dump(dv, f_out)\n",
    "    \n",
    "\n",
    "mlflow.log_artifact(\"models/preprocessor.b\", artifact_path=\"preprocessor\")\n",
    "\n",
    "mlflow.xgboost.log_model(booster, artifact_path=\"models_mlflow\") "
   ]
  },
  {
   "cell_type": "code",
   "execution_count": 27,
   "id": "98ab03ee",
   "metadata": {},
   "outputs": [],
   "source": [
    "mlflow.end_run()"
   ]
  },
  {
   "cell_type": "code",
   "execution_count": 29,
   "id": "7e29ee92",
   "metadata": {},
   "outputs": [],
   "source": [
    "logged_model = 'runs:/ed7175b8c6854619af44473c42d9c443/models_mlflow'\n",
    "\n",
    "# Load model as a PyFuncModel.\n",
    "loaded_model = mlflow.pyfunc.load_model(logged_model)\n",
    "\n"
   ]
  },
  {
   "cell_type": "code",
   "execution_count": 30,
   "id": "545ce32a",
   "metadata": {},
   "outputs": [
    {
     "data": {
      "text/plain": [
       "mlflow.pyfunc.loaded_model:\n",
       "  artifact_path: models_mlflow\n",
       "  flavor: mlflow.xgboost\n",
       "  run_id: ed7175b8c6854619af44473c42d9c443"
      ]
     },
     "execution_count": 30,
     "metadata": {},
     "output_type": "execute_result"
    }
   ],
   "source": [
    "loaded_model"
   ]
  },
  {
   "cell_type": "code",
   "execution_count": 31,
   "id": "84edcfc3",
   "metadata": {},
   "outputs": [],
   "source": [
    "xgboost_model = mlflow.xgboost.load_model(logged_model)"
   ]
  },
  {
   "cell_type": "code",
   "execution_count": 32,
   "id": "b73c6796",
   "metadata": {},
   "outputs": [
    {
     "data": {
      "text/plain": [
       "<xgboost.core.Booster at 0x7a41d44f64f0>"
      ]
     },
     "execution_count": 32,
     "metadata": {},
     "output_type": "execute_result"
    }
   ],
   "source": [
    "xgboost_model"
   ]
  },
  {
   "cell_type": "code",
   "execution_count": 33,
   "id": "ed7270ee",
   "metadata": {},
   "outputs": [],
   "source": [
    "y_pred = xgboost_model.predict(valid)"
   ]
  },
  {
   "cell_type": "code",
   "execution_count": 34,
   "id": "c3bf3418",
   "metadata": {},
   "outputs": [
    {
     "data": {
      "text/plain": [
       "array([14.782765 ,  7.184751 , 15.971323 , 24.328938 ,  9.559302 ,\n",
       "       17.115105 , 11.6522455,  8.688133 ,  8.962229 , 18.982166 ],\n",
       "      dtype=float32)"
      ]
     },
     "execution_count": 34,
     "metadata": {},
     "output_type": "execute_result"
    }
   ],
   "source": [
    "y_pred[:10]"
   ]
  },
  {
   "cell_type": "code",
   "execution_count": 6,
   "id": "1e83e65e",
   "metadata": {},
   "outputs": [],
   "source": [
    "all_runs = mlflow.search_runs(search_all_experiments=True)"
   ]
  },
  {
   "cell_type": "code",
   "execution_count": 7,
   "id": "1f4e689f",
   "metadata": {},
   "outputs": [
    {
     "name": "stdout",
     "output_type": "stream",
     "text": [
      "                              run_id experiment_id    status  \\\n",
      "0   b782909a29834e509a22c59480bd6bf5             4   RUNNING   \n",
      "1   9ef0ab4709f04585ae6d5b4499601091             4   RUNNING   \n",
      "2   bb90af433fe6458b9289d6522b2503c1             4   RUNNING   \n",
      "3   4a95116df67b4109a1d0755e74c70d25             4  FINISHED   \n",
      "4   21477be0c97a4a0f87f7be6a098afd60             4   RUNNING   \n",
      "5   406fa1f7a1344084894c39582caf1471             4  FINISHED   \n",
      "6   faedb34359184516b87386c3d3874161             4   RUNNING   \n",
      "7   974b3717210e4087977ababddc454a44             4   RUNNING   \n",
      "8   99161c650c0f4e0aaf32886385c711f5             4  FINISHED   \n",
      "9   ab888fae7fd445ffb4fe3780100a2059             4  FINISHED   \n",
      "10  01cf014781a14ca2a60592c783218175             4  FINISHED   \n",
      "11  756010995fcd471b806871b3e679e189             4   RUNNING   \n",
      "12  6d8d334376df46e0adbc79a676407f2c             4    FAILED   \n",
      "13  e46c48b0d81d4a4299aa5842e130e876             4    FAILED   \n",
      "14  7d1aab7c8a614b31bfb89f66cf93d68a             4   RUNNING   \n",
      "15  54b2e85f2d1f434cadc6e02d5c1be8b3             4  FINISHED   \n",
      "16  c40780379c224351b5b348705bef747f             4  FINISHED   \n",
      "17  4f78fb9fa7cd48b7ae377b7d4a749c41             4    FAILED   \n",
      "18  ed7175b8c6854619af44473c42d9c443             4  FINISHED   \n",
      "19  e0ef1f472a074d2f81ccf86662123174             4  FINISHED   \n",
      "20  26d6b3bcdb914fbbb3544ae345f17af6             4  FINISHED   \n",
      "21  564d7fc91dd54e54af0c84e34caff9c4             4  FINISHED   \n",
      "22  9e2e2cc66f924248a8616f094c12b46c             4  FINISHED   \n",
      "23  99382772206547ad8f68251115313e1a             4  FINISHED   \n",
      "24  5fcd009d08024c6db577a214de676583             4  FINISHED   \n",
      "25  659f126bf48546a8b62ec318ab8bfc86             4  FINISHED   \n",
      "26  c629c919e0e94a32b620f32e645f9624             4  FINISHED   \n",
      "27  0b0e20cbf9f54fac99e52147e38cdc9f             4    FAILED   \n",
      "28  30a0c368e8a84026a9f275816d07706d             4    FAILED   \n",
      "29  dfded7a6f7ec4a699305d6de4bb892d4             4    FAILED   \n",
      "30  01a01dc007f242bb8fb9714bf14a0fce             4    FAILED   \n",
      "31  25be5c92b7eb43f4b67607c8a5b608d4             4  FINISHED   \n",
      "32  dba4717c2c69482898ef6baf322e39ab             4  FINISHED   \n",
      "33  442c90113b844f49aa75370fc67eea0f             4  FINISHED   \n",
      "34  e0e4e7c11faf450099aa4f6ea748573d             4  FINISHED   \n",
      "35  a03221937b494bc0898c4d10bc432bf6             4  FINISHED   \n",
      "36  0c5f94dc41c3488ebaf696fb7cb55551             4  FINISHED   \n",
      "37  4b55915e02c345cf84dd464f2fe41b58             4  FINISHED   \n",
      "38  79e507ae033643969311bfc9aaa4f5a5             4  FINISHED   \n",
      "\n",
      "                                         artifact_uri  \\\n",
      "0   /workspaces/mlops-zoomcamp/03-training/experim...   \n",
      "1   /workspaces/mlops-zoomcamp/03-training/experim...   \n",
      "2   /workspaces/mlops-zoomcamp/03-training/experim...   \n",
      "3   /workspaces/mlops-zoomcamp/03-training/experim...   \n",
      "4   /workspaces/mlops-zoomcamp/03-training/experim...   \n",
      "5   /workspaces/mlops-zoomcamp/03-training/experim...   \n",
      "6   /workspaces/mlops-zoomcamp/03-training/experim...   \n",
      "7   /workspaces/mlops-zoomcamp/03-training/experim...   \n",
      "8   /workspaces/mlops-zoomcamp/03-training/experim...   \n",
      "9   /workspaces/mlops-zoomcamp/03-training/experim...   \n",
      "10  /workspaces/mlops-zoomcamp/03-training/experim...   \n",
      "11  /workspaces/mlops-zoomcamp/03-training/experim...   \n",
      "12  /workspaces/mlops-zoomcamp/03-training/experim...   \n",
      "13  /workspaces/mlops-zoomcamp/03-training/experim...   \n",
      "14  /workspaces/mlops-zoomcamp/03-training/experim...   \n",
      "15  /workspaces/mlops-zoomcamp/03-training/experim...   \n",
      "16  /workspaces/mlops-zoomcamp/03-training/experim...   \n",
      "17  /workspaces/mlops-zoomcamp/03-training/experim...   \n",
      "18  /workspaces/mlops-zoomcamp/03-training/experim...   \n",
      "19  /workspaces/mlops-zoomcamp/03-training/experim...   \n",
      "20  /workspaces/mlops-zoomcamp/03-training/experim...   \n",
      "21  /workspaces/mlops-zoomcamp/03-training/experim...   \n",
      "22  /workspaces/mlops-zoomcamp/03-training/experim...   \n",
      "23  /workspaces/mlops-zoomcamp/03-training/experim...   \n",
      "24  /workspaces/mlops-zoomcamp/03-training/experim...   \n",
      "25  /workspaces/mlops-zoomcamp/03-training/experim...   \n",
      "26  /workspaces/mlops-zoomcamp/03-training/experim...   \n",
      "27  /workspaces/mlops-zoomcamp/03-training/experim...   \n",
      "28  /workspaces/mlops-zoomcamp/03-training/experim...   \n",
      "29  /workspaces/mlops-zoomcamp/03-training/experim...   \n",
      "30  /workspaces/mlops-zoomcamp/03-training/experim...   \n",
      "31  /workspaces/mlops-zoomcamp/03-training/experim...   \n",
      "32  /workspaces/mlops-zoomcamp/03-training/experim...   \n",
      "33  /workspaces/mlops-zoomcamp/03-training/experim...   \n",
      "34  /workspaces/mlops-zoomcamp/03-training/experim...   \n",
      "35  /workspaces/mlops-zoomcamp/03-training/experim...   \n",
      "36  /workspaces/mlops-zoomcamp/03-training/experim...   \n",
      "37  /workspaces/mlops-zoomcamp/03-training/experim...   \n",
      "38  /workspaces/mlops-zoomcamp/03-training/experim...   \n",
      "\n",
      "                         start_time                         end_time  \\\n",
      "0  2024-12-09 10:10:42.092000+00:00                              NaT   \n",
      "1  2024-12-09 10:09:33.954000+00:00                              NaT   \n",
      "2  2024-12-09 10:08:43.430000+00:00                              NaT   \n",
      "3  2024-12-09 10:08:07.975000+00:00 2024-12-09 10:08:11.606000+00:00   \n",
      "4  2024-12-09 10:07:07.337000+00:00                              NaT   \n",
      "5  2024-12-09 10:06:47.605000+00:00 2024-12-09 10:06:51.253000+00:00   \n",
      "6  2024-12-09 10:05:22.986000+00:00                              NaT   \n",
      "7  2024-12-09 10:03:59.255000+00:00                              NaT   \n",
      "8  2024-12-09 09:57:34.891000+00:00 2024-12-09 10:03:53.683000+00:00   \n",
      "9  2024-12-09 09:57:34.870000+00:00 2024-12-09 09:57:34.886000+00:00   \n",
      "10 2024-12-09 09:54:08.977000+00:00 2024-12-09 09:54:12.654000+00:00   \n",
      "11 2024-12-09 09:52:29.651000+00:00                              NaT   \n",
      "12 2024-12-09 09:51:34.013000+00:00 2024-12-09 09:51:34.335000+00:00   \n",
      "13 2024-12-09 09:51:20.939000+00:00 2024-12-09 09:51:20.969000+00:00   \n",
      "14 2024-12-09 09:50:17.769000+00:00                              NaT   \n",
      "15 2024-12-09 09:48:47.657000+00:00 2024-12-09 09:48:47.739000+00:00   \n",
      "16 2024-12-09 09:48:05.352000+00:00 2024-12-09 09:48:05.498000+00:00   \n",
      "17 2024-12-09 09:47:47.550000+00:00 2024-12-09 09:47:47.617000+00:00   \n",
      "18 2024-12-09 09:29:55.238000+00:00 2024-12-09 09:34:17.021000+00:00   \n",
      "19 2024-12-09 09:29:55.090000+00:00 2024-12-09 09:29:55.233000+00:00   \n",
      "20 2024-12-09 09:07:41.636000+00:00 2024-12-09 09:22:51.587000+00:00   \n",
      "21 2024-12-09 09:07:41.623000+00:00 2024-12-09 09:07:41.631000+00:00   \n",
      "22 2024-12-09 09:07:08.238000+00:00 2024-12-09 09:07:38.458000+00:00   \n",
      "23 2024-12-09 09:07:08.222000+00:00 2024-12-09 09:07:08.231000+00:00   \n",
      "24 2024-12-09 09:06:01.195000+00:00 2024-12-09 09:07:04.075000+00:00   \n",
      "25 2024-12-09 09:06:01.182000+00:00 2024-12-09 09:06:01.190000+00:00   \n",
      "26 2024-12-09 08:54:31.343000+00:00 2024-12-09 08:54:35.322000+00:00   \n",
      "27 2024-12-09 08:49:02.403000+00:00 2024-12-09 08:49:06.005000+00:00   \n",
      "28 2024-12-09 08:47:43.355000+00:00 2024-12-09 08:47:46.990000+00:00   \n",
      "29 2024-12-09 08:47:29.105000+00:00 2024-12-09 08:47:33.213000+00:00   \n",
      "30 2024-12-06 18:58:10.891000+00:00 2024-12-06 18:58:30.506000+00:00   \n",
      "31 2024-12-06 18:57:34.687000+00:00 2024-12-06 18:58:10.883000+00:00   \n",
      "32 2024-12-06 18:55:52.216000+00:00 2024-12-06 18:57:34.672000+00:00   \n",
      "33 2024-12-06 18:54:29.277000+00:00 2024-12-06 18:55:52.208000+00:00   \n",
      "34 2024-12-06 18:52:45.120000+00:00 2024-12-06 18:54:29.268000+00:00   \n",
      "35 2024-12-06 18:49:02.634000+00:00 2024-12-06 18:52:45.111000+00:00   \n",
      "36 2024-12-06 18:43:12.176000+00:00 2024-12-06 18:49:02.626000+00:00   \n",
      "37 2024-12-06 17:52:22.102000+00:00 2024-12-06 17:52:25.773000+00:00   \n",
      "38 2024-12-06 17:49:20.463000+00:00 2024-12-06 17:49:27.566000+00:00   \n",
      "\n",
      "    metrics.training_score  metrics.training_mean_squared_error  \\\n",
      "0                 0.011419                           132.178192   \n",
      "1                 0.757039                            32.485031   \n",
      "2                 0.757039                            32.485031   \n",
      "3                      NaN                                  NaN   \n",
      "4                 0.757039                            32.485031   \n",
      "5                      NaN                                  NaN   \n",
      "6                 0.757039                            32.485031   \n",
      "7                 0.757039                            32.485031   \n",
      "8                      NaN                                  NaN   \n",
      "9                      NaN                                  NaN   \n",
      "10                     NaN                                  NaN   \n",
      "11                0.757039                            32.485031   \n",
      "12                     NaN                                  NaN   \n",
      "13                     NaN                                  NaN   \n",
      "14                0.757039                            32.485031   \n",
      "15                     NaN                                  NaN   \n",
      "16                     NaN                                  NaN   \n",
      "17                     NaN                                  NaN   \n",
      "18                     NaN                                  NaN   \n",
      "19                     NaN                                  NaN   \n",
      "20                     NaN                                  NaN   \n",
      "21                     NaN                                  NaN   \n",
      "22                     NaN                                  NaN   \n",
      "23                     NaN                                  NaN   \n",
      "24                     NaN                                  NaN   \n",
      "25                     NaN                                  NaN   \n",
      "26                     NaN                                  NaN   \n",
      "27                     NaN                                  NaN   \n",
      "28                     NaN                                  NaN   \n",
      "29                     NaN                                  NaN   \n",
      "30                     NaN                                  NaN   \n",
      "31                     NaN                                  NaN   \n",
      "32                     NaN                                  NaN   \n",
      "33                     NaN                                  NaN   \n",
      "34                     NaN                                  NaN   \n",
      "35                     NaN                                  NaN   \n",
      "36                     NaN                                  NaN   \n",
      "37                     NaN                                  NaN   \n",
      "38                     NaN                                  NaN   \n",
      "\n",
      "    metrics.training_root_mean_squared_error  \\\n",
      "0                                  11.496877   \n",
      "1                                   5.699564   \n",
      "2                                   5.699564   \n",
      "3                                        NaN   \n",
      "4                                   5.699564   \n",
      "5                                        NaN   \n",
      "6                                   5.699564   \n",
      "7                                   5.699564   \n",
      "8                                        NaN   \n",
      "9                                        NaN   \n",
      "10                                       NaN   \n",
      "11                                  5.699564   \n",
      "12                                       NaN   \n",
      "13                                       NaN   \n",
      "14                                  5.699564   \n",
      "15                                       NaN   \n",
      "16                                       NaN   \n",
      "17                                       NaN   \n",
      "18                                       NaN   \n",
      "19                                       NaN   \n",
      "20                                       NaN   \n",
      "21                                       NaN   \n",
      "22                                       NaN   \n",
      "23                                       NaN   \n",
      "24                                       NaN   \n",
      "25                                       NaN   \n",
      "26                                       NaN   \n",
      "27                                       NaN   \n",
      "28                                       NaN   \n",
      "29                                       NaN   \n",
      "30                                       NaN   \n",
      "31                                       NaN   \n",
      "32                                       NaN   \n",
      "33                                       NaN   \n",
      "34                                       NaN   \n",
      "35                                       NaN   \n",
      "36                                       NaN   \n",
      "37                                       NaN   \n",
      "38                                       NaN   \n",
      "\n",
      "    metrics.training_mean_absolute_error  ...     params.reg_lambda  \\\n",
      "0                               8.990739  ...                  None   \n",
      "1                               4.130067  ...                  None   \n",
      "2                               4.130067  ...                  None   \n",
      "3                                    NaN  ...                  None   \n",
      "4                               4.130067  ...                  None   \n",
      "5                                    NaN  ...                  None   \n",
      "6                               4.130067  ...                  None   \n",
      "7                               4.130067  ...                  None   \n",
      "8                                    NaN  ...  0.011658731377413597   \n",
      "9                                    NaN  ...                  None   \n",
      "10                                   NaN  ...                  None   \n",
      "11                              4.130067  ...                  None   \n",
      "12                                   NaN  ...                  None   \n",
      "13                                   NaN  ...                  None   \n",
      "14                              4.130067  ...                  None   \n",
      "15                                   NaN  ...                  None   \n",
      "16                                   NaN  ...                  None   \n",
      "17                                   NaN  ...                  None   \n",
      "18                                   NaN  ...  0.011658731377413597   \n",
      "19                                   NaN  ...                  None   \n",
      "20                                   NaN  ...  0.011658731377413597   \n",
      "21                                   NaN  ...                  None   \n",
      "22                                   NaN  ...  0.011658731377413597   \n",
      "23                                   NaN  ...                  None   \n",
      "24                                   NaN  ...  0.011658731377413597   \n",
      "25                                   NaN  ...                  None   \n",
      "26                                   NaN  ...                  None   \n",
      "27                                   NaN  ...                  None   \n",
      "28                                   NaN  ...                  None   \n",
      "29                                   NaN  ...                  None   \n",
      "30                                   NaN  ...   0.15781219980610012   \n",
      "31                                   NaN  ...  0.008275955524808518   \n",
      "32                                   NaN  ...  0.029470640037666376   \n",
      "33                                   NaN  ...  0.018379266605112504   \n",
      "34                                   NaN  ...  0.022388639977735336   \n",
      "35                                   NaN  ...  0.017471319076869687   \n",
      "36                                   NaN  ...    0.3229241192012983   \n",
      "37                                   NaN  ...                  None   \n",
      "38                                   NaN  ...                  None   \n",
      "\n",
      "                              tags.mlflow.source.name  \\\n",
      "0   /home/codespace/anaconda3/envs/exp-tracking-en...   \n",
      "1   /home/codespace/anaconda3/envs/exp-tracking-en...   \n",
      "2   /home/codespace/anaconda3/envs/exp-tracking-en...   \n",
      "3   /home/codespace/anaconda3/envs/exp-tracking-en...   \n",
      "4   /home/codespace/anaconda3/envs/exp-tracking-en...   \n",
      "5   /home/codespace/anaconda3/envs/exp-tracking-en...   \n",
      "6   /home/codespace/anaconda3/envs/exp-tracking-en...   \n",
      "7   /home/codespace/anaconda3/envs/exp-tracking-en...   \n",
      "8   /home/codespace/anaconda3/envs/exp-tracking-en...   \n",
      "9   /home/codespace/anaconda3/envs/exp-tracking-en...   \n",
      "10  /home/codespace/anaconda3/envs/exp-tracking-en...   \n",
      "11  /home/codespace/anaconda3/envs/exp-tracking-en...   \n",
      "12  /home/codespace/anaconda3/envs/exp-tracking-en...   \n",
      "13  /home/codespace/anaconda3/envs/exp-tracking-en...   \n",
      "14  /home/codespace/anaconda3/envs/exp-tracking-en...   \n",
      "15  /home/codespace/anaconda3/envs/exp-tracking-en...   \n",
      "16  /home/codespace/anaconda3/envs/exp-tracking-en...   \n",
      "17  /home/codespace/anaconda3/envs/exp-tracking-en...   \n",
      "18  /home/codespace/anaconda3/envs/exp-tracking-en...   \n",
      "19  /home/codespace/anaconda3/envs/exp-tracking-en...   \n",
      "20  /home/codespace/anaconda3/envs/exp-tracking-en...   \n",
      "21  /home/codespace/anaconda3/envs/exp-tracking-en...   \n",
      "22  /home/codespace/anaconda3/envs/exp-tracking-en...   \n",
      "23  /home/codespace/anaconda3/envs/exp-tracking-en...   \n",
      "24  /home/codespace/anaconda3/envs/exp-tracking-en...   \n",
      "25  /home/codespace/anaconda3/envs/exp-tracking-en...   \n",
      "26  /home/codespace/anaconda3/envs/exp-tracking-en...   \n",
      "27  /home/codespace/anaconda3/envs/exp-tracking-en...   \n",
      "28  /home/codespace/anaconda3/envs/exp-tracking-en...   \n",
      "29  /home/codespace/anaconda3/envs/exp-tracking-en...   \n",
      "30  /home/codespace/anaconda3/envs/exp-tracking-en...   \n",
      "31  /home/codespace/anaconda3/envs/exp-tracking-en...   \n",
      "32  /home/codespace/anaconda3/envs/exp-tracking-en...   \n",
      "33  /home/codespace/anaconda3/envs/exp-tracking-en...   \n",
      "34  /home/codespace/anaconda3/envs/exp-tracking-en...   \n",
      "35  /home/codespace/anaconda3/envs/exp-tracking-en...   \n",
      "36  /home/codespace/anaconda3/envs/exp-tracking-en...   \n",
      "37  /home/codespace/anaconda3/envs/exp-tracking-en...   \n",
      "38  /home/codespace/anaconda3/envs/exp-tracking-en...   \n",
      "\n",
      "                        tags.mlflow.log-model.history  \\\n",
      "0   [{\"run_id\": \"b782909a29834e509a22c59480bd6bf5\"...   \n",
      "1   [{\"run_id\": \"9ef0ab4709f04585ae6d5b4499601091\"...   \n",
      "2   [{\"run_id\": \"bb90af433fe6458b9289d6522b2503c1\"...   \n",
      "3                                                None   \n",
      "4   [{\"run_id\": \"21477be0c97a4a0f87f7be6a098afd60\"...   \n",
      "5                                                None   \n",
      "6   [{\"run_id\": \"faedb34359184516b87386c3d3874161\"...   \n",
      "7   [{\"run_id\": \"974b3717210e4087977ababddc454a44\"...   \n",
      "8                                                None   \n",
      "9                                                None   \n",
      "10                                               None   \n",
      "11  [{\"run_id\": \"756010995fcd471b806871b3e679e189\"...   \n",
      "12                                               None   \n",
      "13                                               None   \n",
      "14  [{\"run_id\": \"7d1aab7c8a614b31bfb89f66cf93d68a\"...   \n",
      "15                                               None   \n",
      "16                                               None   \n",
      "17                                               None   \n",
      "18  [{\"run_id\": \"ed7175b8c6854619af44473c42d9c443\"...   \n",
      "19                                               None   \n",
      "20  [{\"run_id\": \"26d6b3bcdb914fbbb3544ae345f17af6\"...   \n",
      "21                                               None   \n",
      "22                                               None   \n",
      "23                                               None   \n",
      "24                                               None   \n",
      "25                                               None   \n",
      "26                                               None   \n",
      "27                                               None   \n",
      "28                                               None   \n",
      "29                                               None   \n",
      "30                                               None   \n",
      "31                                               None   \n",
      "32                                               None   \n",
      "33                                               None   \n",
      "34                                               None   \n",
      "35                                               None   \n",
      "36                                               None   \n",
      "37                                               None   \n",
      "38                                               None   \n",
      "\n",
      "                              tags.estimator_class   tags.mlflow.runName  \\\n",
      "0   sklearn.linear_model._coordinate_descent.Lasso    legendary-lynx-618   \n",
      "1      sklearn.linear_model._base.LinearRegression    capricious-cow-676   \n",
      "2      sklearn.linear_model._base.LinearRegression  thundering-stoat-217   \n",
      "3                                             None      languid-loon-981   \n",
      "4      sklearn.linear_model._base.LinearRegression    intelligent-koi-13   \n",
      "5                                             None       gentle-snail-92   \n",
      "6      sklearn.linear_model._base.LinearRegression   grandiose-shrike-63   \n",
      "7      sklearn.linear_model._base.LinearRegression  overjoyed-donkey-845   \n",
      "8                                             None        rogue-flea-962   \n",
      "9                                             None     stylish-snipe-259   \n",
      "10                                            None    treasured-grub-432   \n",
      "11     sklearn.linear_model._base.LinearRegression     adorable-mule-622   \n",
      "12                                            None    powerful-shoat-143   \n",
      "13                                            None         rare-gnat-450   \n",
      "14     sklearn.linear_model._base.LinearRegression    youthful-sloth-309   \n",
      "15                                            None       worried-kit-389   \n",
      "16                                            None    ambitious-toad-200   \n",
      "17                                            None     grandiose-gnat-95   \n",
      "18                                            None      charming-bird-78   \n",
      "19                                            None       sedate-bird-608   \n",
      "20                                            None    resilient-bear-135   \n",
      "21                                            None    grandiose-frog-640   \n",
      "22                                            None      nervous-hare-813   \n",
      "23                                            None     orderly-quail-671   \n",
      "24                                            None       capable-cat-496   \n",
      "25                                            None        clumsy-bat-940   \n",
      "26                                            None         bald-dove-520   \n",
      "27                                            None      legendary-rat-90   \n",
      "28                                            None  selective-grouse-186   \n",
      "29                                            None    overjoyed-moth-851   \n",
      "30                                            None     efficient-koi-291   \n",
      "31                                            None       selective-sow-4   \n",
      "32                                            None      valuable-rat-143   \n",
      "33                                            None       salty-conch-790   \n",
      "34                                            None      smiling-finch-68   \n",
      "35                                            None  traveling-donkey-668   \n",
      "36                                            None      nimble-conch-705   \n",
      "37                                            None    selective-shad-703   \n",
      "38                                            None          calm-auk-235   \n",
      "\n",
      "   tags.estimator_name tags.mlflow.user tags.developer  \\\n",
      "0                Lasso        codespace         javier   \n",
      "1     LinearRegression        codespace         javier   \n",
      "2     LinearRegression        codespace         javier   \n",
      "3                 None        codespace         javier   \n",
      "4     LinearRegression        codespace         javier   \n",
      "5                 None        codespace         javier   \n",
      "6     LinearRegression        codespace         javier   \n",
      "7     LinearRegression        codespace         javier   \n",
      "8                 None        codespace           None   \n",
      "9                 None        codespace           None   \n",
      "10                None        codespace         javier   \n",
      "11    LinearRegression        codespace         javier   \n",
      "12                None        codespace         javier   \n",
      "13                None        codespace         javier   \n",
      "14    LinearRegression        codespace         javier   \n",
      "15                None        codespace         javier   \n",
      "16                None        codespace         javier   \n",
      "17                None        codespace         javier   \n",
      "18                None        codespace           None   \n",
      "19                None        codespace           None   \n",
      "20                None        codespace           None   \n",
      "21                None        codespace           None   \n",
      "22                None        codespace           None   \n",
      "23                None        codespace           None   \n",
      "24                None        codespace           None   \n",
      "25                None        codespace           None   \n",
      "26                None        codespace         javier   \n",
      "27                None        codespace         javier   \n",
      "28                None        codespace         javier   \n",
      "29                None        codespace         javier   \n",
      "30                None        codespace           None   \n",
      "31                None        codespace           None   \n",
      "32                None        codespace           None   \n",
      "33                None        codespace           None   \n",
      "34                None        codespace           None   \n",
      "35                None        codespace           None   \n",
      "36                None        codespace           None   \n",
      "37                None        codespace         javier   \n",
      "38                None        codespace         javier   \n",
      "\n",
      "   tags.mlflow.source.type tags.model  \n",
      "0                    LOCAL       None  \n",
      "1                    LOCAL       None  \n",
      "2                    LOCAL       None  \n",
      "3                    LOCAL       None  \n",
      "4                    LOCAL       None  \n",
      "5                    LOCAL       None  \n",
      "6                    LOCAL       None  \n",
      "7                    LOCAL       None  \n",
      "8                    LOCAL       None  \n",
      "9                    LOCAL       None  \n",
      "10                   LOCAL       None  \n",
      "11                   LOCAL       None  \n",
      "12                   LOCAL       None  \n",
      "13                   LOCAL       None  \n",
      "14                   LOCAL       None  \n",
      "15                   LOCAL       None  \n",
      "16                   LOCAL       None  \n",
      "17                   LOCAL       None  \n",
      "18                   LOCAL       None  \n",
      "19                   LOCAL       None  \n",
      "20                   LOCAL       None  \n",
      "21                   LOCAL       None  \n",
      "22                   LOCAL       None  \n",
      "23                   LOCAL       None  \n",
      "24                   LOCAL       None  \n",
      "25                   LOCAL       None  \n",
      "26                   LOCAL       None  \n",
      "27                   LOCAL       None  \n",
      "28                   LOCAL       None  \n",
      "29                   LOCAL       None  \n",
      "30                   LOCAL    xgboost  \n",
      "31                   LOCAL    xgboost  \n",
      "32                   LOCAL    xgboost  \n",
      "33                   LOCAL    xgboost  \n",
      "34                   LOCAL    xgboost  \n",
      "35                   LOCAL    xgboost  \n",
      "36                   LOCAL    xgboost  \n",
      "37                   LOCAL       None  \n",
      "38                   LOCAL       None  \n",
      "\n",
      "[39 rows x 41 columns]\n"
     ]
    }
   ],
   "source": [
    "print(all_runs)"
   ]
  },
  {
   "cell_type": "code",
   "execution_count": 9,
   "id": "bfbe0b6a",
   "metadata": {},
   "outputs": [],
   "source": [
    "from mlflow.tracking import MlflowClient\n",
    "\n",
    "MLFLOW_TRACKING_URI = \"sqlite:///mlflow.db\"\n",
    "\n",
    "client = MlflowClient(tracking_uri = MLFLOW_TRACKING_URI)"
   ]
  },
  {
   "cell_type": "code",
   "execution_count": 32,
   "id": "c5fb3ccd",
   "metadata": {},
   "outputs": [],
   "source": [
    "from mlflow.entities import ViewType\n",
    "runs = client.search_runs(\n",
    "    experiment_ids=\"4\",\n",
    "    filter_string=\"metrics.rmse < 6.8\",\n",
    "    run_view_type=ViewType.ACTIVE_ONLY,\n",
    "    max_results=5,\n",
    "    order_by=[\"metrics.rmse ASC\"]\n",
    ")"
   ]
  },
  {
   "cell_type": "code",
   "execution_count": 33,
   "id": "565cd393",
   "metadata": {},
   "outputs": [
    {
     "name": "stdout",
     "output_type": "stream",
     "text": [
      "[<Run: data=<RunData: metrics={'rmse': 6.318445793399953}, params={'learning_rate': '0.09585355369315604',\n",
      " 'max_depth': '30',\n",
      " 'min_child_weight': '1.060597050922164',\n",
      " 'objective': 'reg:linear',\n",
      " 'reg_alpha': '0.01806024404006163',\n",
      " 'reg_lambda': '0.011658731377413597',\n",
      " 'seed': '42'}, tags={'mlflow.log-model.history': '[{\"run_id\": \"ed7175b8c6854619af44473c42d9c443\", '\n",
      "                             '\"artifact_path\": \"models_mlflow\", '\n",
      "                             '\"utc_time_created\": \"2024-12-09 '\n",
      "                             '09:32:57.188301\", \"model_uuid\": '\n",
      "                             '\"93c49110b7304c1fbbaf728537c95730\", \"flavors\": '\n",
      "                             '{\"python_function\": {\"loader_module\": '\n",
      "                             '\"mlflow.xgboost\", \"python_version\": \"3.9.20\", '\n",
      "                             '\"data\": \"model.xgb\", \"env\": {\"conda\": '\n",
      "                             '\"conda.yaml\", \"virtualenv\": \"python_env.yaml\"}}, '\n",
      "                             '\"xgboost\": {\"xgb_version\": \"2.1.3\", \"data\": '\n",
      "                             '\"model.xgb\", \"model_class\": '\n",
      "                             '\"xgboost.core.Booster\", \"model_format\": \"xgb\", '\n",
      "                             '\"code\": null}}}]',\n",
      " 'mlflow.runName': 'charming-bird-78',\n",
      " 'mlflow.source.name': '/home/codespace/anaconda3/envs/exp-tracking-env/lib/python3.9/site-packages/ipykernel_launcher.py',\n",
      " 'mlflow.source.type': 'LOCAL',\n",
      " 'mlflow.user': 'codespace'}>, info=<RunInfo: artifact_uri='/workspaces/mlops-zoomcamp/03-training/experiment_tracking/mlruns/4/ed7175b8c6854619af44473c42d9c443/artifacts', end_time=1733736857021, experiment_id='4', lifecycle_stage='active', run_id='ed7175b8c6854619af44473c42d9c443', run_name='charming-bird-78', run_uuid='ed7175b8c6854619af44473c42d9c443', start_time=1733736595238, status='FINISHED', user_id='codespace'>, inputs=<RunInputs: dataset_inputs=[]>>, <Run: data=<RunData: metrics={'rmse': 6.318445793399953}, params={'learning_rate': '0.09585355369315604',\n",
      " 'max_depth': '30',\n",
      " 'min_child_weight': '1.060597050922164',\n",
      " 'objective': 'reg:linear',\n",
      " 'reg_alpha': '0.01806024404006163',\n",
      " 'reg_lambda': '0.011658731377413597',\n",
      " 'seed': '42'}, tags={'mlflow.log-model.history': '[{\"run_id\": \"26d6b3bcdb914fbbb3544ae345f17af6\", '\n",
      "                             '\"artifact_path\": \"models_mlflow\", '\n",
      "                             '\"utc_time_created\": \"2024-12-09 '\n",
      "                             '09:10:45.031124\", \"model_uuid\": '\n",
      "                             '\"df0faab8f2104e769aeb85853ce08734\", \"flavors\": '\n",
      "                             '{\"python_function\": {\"loader_module\": '\n",
      "                             '\"mlflow.xgboost\", \"python_version\": \"3.9.20\", '\n",
      "                             '\"data\": \"model.xgb\", \"env\": {\"conda\": '\n",
      "                             '\"conda.yaml\", \"virtualenv\": \"python_env.yaml\"}}, '\n",
      "                             '\"xgboost\": {\"xgb_version\": \"2.1.3\", \"data\": '\n",
      "                             '\"model.xgb\", \"model_class\": '\n",
      "                             '\"xgboost.core.Booster\", \"model_format\": \"xgb\", '\n",
      "                             '\"code\": null}}}]',\n",
      " 'mlflow.runName': 'resilient-bear-135',\n",
      " 'mlflow.source.name': '/home/codespace/anaconda3/envs/exp-tracking-env/lib/python3.9/site-packages/ipykernel_launcher.py',\n",
      " 'mlflow.source.type': 'LOCAL',\n",
      " 'mlflow.user': 'codespace'}>, info=<RunInfo: artifact_uri='/workspaces/mlops-zoomcamp/03-training/experiment_tracking/mlruns/4/26d6b3bcdb914fbbb3544ae345f17af6/artifacts', end_time=1733736171587, experiment_id='4', lifecycle_stage='active', run_id='26d6b3bcdb914fbbb3544ae345f17af6', run_name='resilient-bear-135', run_uuid='26d6b3bcdb914fbbb3544ae345f17af6', start_time=1733735261636, status='FINISHED', user_id='codespace'>, inputs=<RunInputs: dataset_inputs=[]>>, <Run: data=<RunData: metrics={'rmse': 6.3224221070087605}, params={'learning_rate': '0.335297182610114',\n",
      " 'max_depth': '50',\n",
      " 'min_child_weight': '1.981670578554687',\n",
      " 'objective': 'reg:linear',\n",
      " 'reg_alpha': '0.01700699071798713',\n",
      " 'reg_lambda': '0.018379266605112504',\n",
      " 'seed': '42'}, tags={'mlflow.runName': 'salty-conch-790',\n",
      " 'mlflow.source.name': '/home/codespace/anaconda3/envs/exp-tracking-env/lib/python3.9/site-packages/ipykernel_launcher.py',\n",
      " 'mlflow.source.type': 'LOCAL',\n",
      " 'mlflow.user': 'codespace',\n",
      " 'model': 'xgboost'}>, info=<RunInfo: artifact_uri='/workspaces/mlops-zoomcamp/03-training/experiment_tracking/mlruns/4/442c90113b844f49aa75370fc67eea0f/artifacts', end_time=1733511352208, experiment_id='4', lifecycle_stage='active', run_id='442c90113b844f49aa75370fc67eea0f', run_name='salty-conch-790', run_uuid='442c90113b844f49aa75370fc67eea0f', start_time=1733511269277, status='FINISHED', user_id='codespace'>, inputs=<RunInputs: dataset_inputs=[]>>, <Run: data=<RunData: metrics={'rmse': 6.326306780285916}, params={'learning_rate': '0.06750910509429832',\n",
      " 'max_depth': '67',\n",
      " 'min_child_weight': '2.849252233048747',\n",
      " 'objective': 'reg:linear',\n",
      " 'reg_alpha': '0.011613052888665132',\n",
      " 'reg_lambda': '0.3229241192012983',\n",
      " 'seed': '42'}, tags={'mlflow.runName': 'nimble-conch-705',\n",
      " 'mlflow.source.name': '/home/codespace/anaconda3/envs/exp-tracking-env/lib/python3.9/site-packages/ipykernel_launcher.py',\n",
      " 'mlflow.source.type': 'LOCAL',\n",
      " 'mlflow.user': 'codespace',\n",
      " 'model': 'xgboost'}>, info=<RunInfo: artifact_uri='/workspaces/mlops-zoomcamp/03-training/experiment_tracking/mlruns/4/0c5f94dc41c3488ebaf696fb7cb55551/artifacts', end_time=1733510942626, experiment_id='4', lifecycle_stage='active', run_id='0c5f94dc41c3488ebaf696fb7cb55551', run_name='nimble-conch-705', run_uuid='0c5f94dc41c3488ebaf696fb7cb55551', start_time=1733510592176, status='FINISHED', user_id='codespace'>, inputs=<RunInputs: dataset_inputs=[]>>, <Run: data=<RunData: metrics={'rmse': 6.465357171933995}, params={'learning_rate': '0.351250840075775',\n",
      " 'max_depth': '98',\n",
      " 'min_child_weight': '0.8751560165462571',\n",
      " 'objective': 'reg:linear',\n",
      " 'reg_alpha': '0.14334957292066522',\n",
      " 'reg_lambda': '0.029470640037666376',\n",
      " 'seed': '42'}, tags={'mlflow.runName': 'valuable-rat-143',\n",
      " 'mlflow.source.name': '/home/codespace/anaconda3/envs/exp-tracking-env/lib/python3.9/site-packages/ipykernel_launcher.py',\n",
      " 'mlflow.source.type': 'LOCAL',\n",
      " 'mlflow.user': 'codespace',\n",
      " 'model': 'xgboost'}>, info=<RunInfo: artifact_uri='/workspaces/mlops-zoomcamp/03-training/experiment_tracking/mlruns/4/dba4717c2c69482898ef6baf322e39ab/artifacts', end_time=1733511454672, experiment_id='4', lifecycle_stage='active', run_id='dba4717c2c69482898ef6baf322e39ab', run_name='valuable-rat-143', run_uuid='dba4717c2c69482898ef6baf322e39ab', start_time=1733511352216, status='FINISHED', user_id='codespace'>, inputs=<RunInputs: dataset_inputs=[]>>]\n"
     ]
    }
   ],
   "source": [
    "print(runs)"
   ]
  },
  {
   "cell_type": "code",
   "execution_count": 34,
   "id": "967e000b",
   "metadata": {},
   "outputs": [
    {
     "name": "stdout",
     "output_type": "stream",
     "text": [
      "run id: ed7175b8c6854619af44473c42d9c443, rmse: 6.3184\n",
      "run id: 26d6b3bcdb914fbbb3544ae345f17af6, rmse: 6.3184\n",
      "run id: 442c90113b844f49aa75370fc67eea0f, rmse: 6.3224\n",
      "run id: 0c5f94dc41c3488ebaf696fb7cb55551, rmse: 6.3263\n",
      "run id: dba4717c2c69482898ef6baf322e39ab, rmse: 6.4654\n"
     ]
    }
   ],
   "source": [
    "for run in runs:\n",
    "    print(f\"run id: {run.info.run_id}, rmse: {run.data.metrics['rmse']:.4f}\")"
   ]
  },
  {
   "cell_type": "code",
   "execution_count": 35,
   "id": "005038ff",
   "metadata": {},
   "outputs": [],
   "source": [
    "import mlflow\n",
    "\n",
    "mlflow.set_tracking_uri(MLFLOW_TRACKING_URI)\n"
   ]
  },
  {
   "cell_type": "code",
   "execution_count": 65,
   "id": "0530009d",
   "metadata": {},
   "outputs": [
    {
     "name": "stderr",
     "output_type": "stream",
     "text": [
      "Registered model 'nyc-taxi-xboost' already exists. Creating a new version of this model...\n",
      "Created version '4' of model 'nyc-taxi-xboost'.\n"
     ]
    },
    {
     "data": {
      "text/plain": [
       "<ModelVersion: aliases=[], creation_timestamp=1733747542645, current_stage='None', description=None, last_updated_timestamp=1733747542645, name='nyc-taxi-xboost', run_id='ed7175b8c6854619af44473c42d9c443', run_link=None, source='/workspaces/mlops-zoomcamp/03-training/experiment_tracking/mlruns/4/ed7175b8c6854619af44473c42d9c443/artifacts/model', status='READY', status_message=None, tags={}, user_id=None, version=4>"
      ]
     },
     "execution_count": 65,
     "metadata": {},
     "output_type": "execute_result"
    }
   ],
   "source": [
    "run_id= \"ed7175b8c6854619af44473c42d9c443\"\n",
    "model_uri= f\"runs:/{run_id}/model\"\n",
    "\n",
    "mlflow.register_model(model_uri=model_uri , name=\"nyc-taxi-xboost\")"
   ]
  },
  {
   "cell_type": "code",
   "execution_count": 66,
   "id": "ee1a43bf",
   "metadata": {},
   "outputs": [
    {
     "data": {
      "text/plain": [
       "[<RegisteredModel: aliases={}, creation_timestamp=1733744636822, description=None, last_updated_timestamp=1733745013287, latest_versions=[<ModelVersion: aliases=[], creation_timestamp=1733745013287, current_stage='None', description=None, last_updated_timestamp=1733745013287, name='nyc-taxi-experiment_2', run_id='26d6b3bcdb914fbbb3544ae345f17af6', run_link=None, source='/workspaces/mlops-zoomcamp/03-training/experiment_tracking/mlruns/4/26d6b3bcdb914fbbb3544ae345f17af6/artifacts/model', status='READY', status_message=None, tags={}, user_id=None, version=1>], name='nyc-taxi-experiment_2', tags={}>,\n",
       " <RegisteredModel: aliases={}, creation_timestamp=1733741371434, description='This is NYC Taxi prediction model\\n', last_updated_timestamp=1733747542645, latest_versions=[<ModelVersion: aliases=[], creation_timestamp=1733745126888, current_stage='Staging', description=('The model version <ModelVersion: aliases=[], '\n",
       "  \"creation_timestamp=1733745126888, current_stage='None', description=None, \"\n",
       "  \"last_updated_timestamp=1733745126888, name='nyc-taxi-xboost', \"\n",
       "  \"run_id='0c5f94dc41c3488ebaf696fb7cb55551', run_link=None, \"\n",
       "  \"source='/workspaces/mlops-zoomcamp/03-training/experiment_tracking/mlruns/4/0c5f94dc41c3488ebaf696fb7cb55551/artifacts/model', \"\n",
       "  \"status='READY', status_message=None, tags={}, user_id=None, version=3> was \"\n",
       "  'transitioned to stage Staging on date 2024-12-09'), last_updated_timestamp=1733745883447, name='nyc-taxi-xboost', run_id='0c5f94dc41c3488ebaf696fb7cb55551', run_link=None, source='/workspaces/mlops-zoomcamp/03-training/experiment_tracking/mlruns/4/0c5f94dc41c3488ebaf696fb7cb55551/artifacts/model', status='READY', status_message=None, tags={}, user_id=None, version=3>,\n",
       "  <ModelVersion: aliases=[], creation_timestamp=1733747542645, current_stage='None', description=None, last_updated_timestamp=1733747542645, name='nyc-taxi-xboost', run_id='ed7175b8c6854619af44473c42d9c443', run_link=None, source='/workspaces/mlops-zoomcamp/03-training/experiment_tracking/mlruns/4/ed7175b8c6854619af44473c42d9c443/artifacts/model', status='READY', status_message=None, tags={}, user_id=None, version=4>], name='nyc-taxi-xboost', tags={}>]"
      ]
     },
     "execution_count": 66,
     "metadata": {},
     "output_type": "execute_result"
    }
   ],
   "source": [
    "client.search_registered_models()"
   ]
  },
  {
   "cell_type": "code",
   "execution_count": 67,
   "id": "f418792f",
   "metadata": {},
   "outputs": [
    {
     "name": "stdout",
     "output_type": "stream",
     "text": [
      "version: 3, stage Staging\n",
      "version: 4, stage None\n"
     ]
    },
    {
     "name": "stderr",
     "output_type": "stream",
     "text": [
      "/tmp/ipykernel_3082/3751737152.py:2: FutureWarning: ``mlflow.tracking.client.MlflowClient.get_latest_versions`` is deprecated since 2.9.0. Model registry stages will be removed in a future major release. To learn more about the deprecation of model registry stages, see our migration guide here: https://mlflow.org/docs/latest/model-registry.html#migrating-from-stages\n",
      "  latest_versions= client.get_latest_versions(name=model_name)\n"
     ]
    }
   ],
   "source": [
    "model_name= \"nyc-taxi-xboost\"\n",
    "latest_versions= client.get_latest_versions(name=model_name)\n",
    "\n",
    "for version in latest_versions:\n",
    "    print(f\"version: {version.version}, stage {version.current_stage}\")"
   ]
  },
  {
   "cell_type": "markdown",
   "id": "cad8714e",
   "metadata": {},
   "source": []
  },
  {
   "cell_type": "code",
   "execution_count": 68,
   "id": "d353b34f",
   "metadata": {},
   "outputs": [
    {
     "name": "stderr",
     "output_type": "stream",
     "text": [
      "/tmp/ipykernel_3082/651624992.py:4: FutureWarning: ``mlflow.tracking.client.MlflowClient.transition_model_version_stage`` is deprecated since 2.9.0. Model registry stages will be removed in a future major release. To learn more about the deprecation of model registry stages, see our migration guide here: https://mlflow.org/docs/latest/model-registry.html#migrating-from-stages\n",
      "  client.transition_model_version_stage(\n"
     ]
    },
    {
     "data": {
      "text/plain": [
       "<ModelVersion: aliases=[], creation_timestamp=1733747542645, current_stage='Staging', description=None, last_updated_timestamp=1733747553842, name='nyc-taxi-xboost', run_id='ed7175b8c6854619af44473c42d9c443', run_link=None, source='/workspaces/mlops-zoomcamp/03-training/experiment_tracking/mlruns/4/ed7175b8c6854619af44473c42d9c443/artifacts/model', status='READY', status_message=None, tags={}, user_id=None, version=4>"
      ]
     },
     "execution_count": 68,
     "metadata": {},
     "output_type": "execute_result"
    }
   ],
   "source": [
    "model_version = 4\n",
    "new_stage = \"Staging\"\n",
    "\n",
    "client.transition_model_version_stage(\n",
    "    name=model_name,\n",
    "    version=model_version,\n",
    "    stage=new_stage,\n",
    "    archive_existing_versions=False\n",
    ")"
   ]
  },
  {
   "cell_type": "code",
   "execution_count": 69,
   "id": "b8e065af",
   "metadata": {},
   "outputs": [
    {
     "data": {
      "text/plain": [
       "<ModelVersion: aliases=[], creation_timestamp=1733747542645, current_stage='Staging', description=('The model version <ModelVersion: aliases=[], '\n",
       " \"creation_timestamp=1733747542645, current_stage='None', description=None, \"\n",
       " \"last_updated_timestamp=1733747542645, name='nyc-taxi-xboost', \"\n",
       " \"run_id='ed7175b8c6854619af44473c42d9c443', run_link=None, \"\n",
       " \"source='/workspaces/mlops-zoomcamp/03-training/experiment_tracking/mlruns/4/ed7175b8c6854619af44473c42d9c443/artifacts/model', \"\n",
       " \"status='READY', status_message=None, tags={}, user_id=None, version=4> was \"\n",
       " 'transitioned to stage Staging on date 2024-12-09'), last_updated_timestamp=1733747554725, name='nyc-taxi-xboost', run_id='ed7175b8c6854619af44473c42d9c443', run_link=None, source='/workspaces/mlops-zoomcamp/03-training/experiment_tracking/mlruns/4/ed7175b8c6854619af44473c42d9c443/artifacts/model', status='READY', status_message=None, tags={}, user_id=None, version=4>"
      ]
     },
     "execution_count": 69,
     "metadata": {},
     "output_type": "execute_result"
    }
   ],
   "source": [
    "from datetime import datetime\n",
    "\n",
    "date = datetime.today().date()\n",
    "client.update_model_version(\n",
    "    name=model_name,\n",
    "    version= model_version,\n",
    "    description=f\"The model version {version} was transitioned to stage {new_stage} on date {date}\"\n",
    ")"
   ]
  },
  {
   "cell_type": "code",
   "execution_count": 70,
   "id": "11d49dfd",
   "metadata": {},
   "outputs": [],
   "source": [
    "from sklearn.metrics import mean_squared_error\n",
    "import pandas as pd\n",
    "\n",
    "\n",
    "def read_dataframe(filename):\n",
    "    df = pd.read_parquet(filename)\n",
    "\n",
    "    df.lpep_dropoff_datetime = pd.to_datetime(df.lpep_dropoff_datetime)\n",
    "    df.lpep_pickup_datetime = pd.to_datetime(df.lpep_pickup_datetime)\n",
    "\n",
    "    df['duration'] = df.lpep_dropoff_datetime - df.lpep_pickup_datetime\n",
    "    df.duration = df.duration.apply(lambda td: td.total_seconds() / 60)\n",
    "\n",
    "    df = df[(df.duration >= 1) & (df.duration <= 60)]\n",
    "\n",
    "    categorical = ['PULocationID', 'DOLocationID']\n",
    "    df[categorical] = df[categorical].astype(str)\n",
    "    \n",
    "    return df\n",
    "\n",
    "\n",
    "def preprocess(df, dv):\n",
    "    df['PU_DO'] = df['PULocationID'] + '_' + df['DOLocationID']\n",
    "    categorical = ['PU_DO']\n",
    "    numerical = ['trip_distance']\n",
    "    train_dicts = df[categorical + numerical].to_dict(orient='records')\n",
    "    return dv.transform(train_dicts)\n",
    "\n",
    "\n",
    "def test_model(name, stage, X_test, y_test):\n",
    "    model = mlflow.pyfunc.load_model(f\"models:/{name}/{stage}\")\n",
    "    y_pred = model.predict(X_test)\n",
    "    return {\"rmse\": mean_squared_error(y_test, y_pred, squared=False)}"
   ]
  },
  {
   "cell_type": "code",
   "execution_count": 71,
   "id": "7e9cc7e1",
   "metadata": {},
   "outputs": [],
   "source": [
    "df = read_dataframe(\"data/green_tripdata_2021-03.parquet\")"
   ]
  },
  {
   "cell_type": "code",
   "execution_count": 72,
   "id": "fc3f7a65",
   "metadata": {},
   "outputs": [
    {
     "data": {
      "application/vnd.jupyter.widget-view+json": {
       "model_id": "ed8c7787c2b54e55b07361dc9a15570b",
       "version_major": 2,
       "version_minor": 0
      },
      "text/plain": [
       "Downloading artifacts:   0%|          | 0/1 [00:00<?, ?it/s]"
      ]
     },
     "metadata": {},
     "output_type": "display_data"
    },
    {
     "data": {
      "text/plain": [
       "'/workspaces/mlops-zoomcamp/03-training/experiment_tracking/preprocessor'"
      ]
     },
     "execution_count": 72,
     "metadata": {},
     "output_type": "execute_result"
    }
   ],
   "source": [
    "client.download_artifacts(run_id=run_id, path='preprocessor', dst_path='.')"
   ]
  },
  {
   "cell_type": "code",
   "execution_count": 74,
   "id": "b77557b1",
   "metadata": {},
   "outputs": [],
   "source": [
    "import pickle\n",
    "\n",
    "with open(\"preprocessor/preprocessor.b\", \"rb\") as f_in:\n",
    "    dv=pickle.load(f_in)"
   ]
  },
  {
   "cell_type": "code",
   "execution_count": 76,
   "id": "92195ae4",
   "metadata": {},
   "outputs": [],
   "source": [
    "X_test = preprocess(df,dv)"
   ]
  },
  {
   "cell_type": "code",
   "execution_count": 77,
   "id": "2cb7417b",
   "metadata": {},
   "outputs": [],
   "source": [
    "target = \"duration\"\n",
    "y_test = df[target].values"
   ]
  },
  {
   "cell_type": "code",
   "execution_count": 81,
   "id": "2aacdf70",
   "metadata": {},
   "outputs": [
    {
     "name": "stderr",
     "output_type": "stream",
     "text": [
      "/home/codespace/anaconda3/envs/exp-tracking-env/lib/python3.9/site-packages/mlflow/store/artifact/utils/models.py:31: FutureWarning: ``mlflow.tracking.client.MlflowClient.get_latest_versions`` is deprecated since 2.9.0. Model registry stages will be removed in a future major release. To learn more about the deprecation of model registry stages, see our migration guide here: https://mlflow.org/docs/latest/model-registry.html#migrating-from-stages\n",
      "  latest = client.get_latest_versions(name, None if stage is None else [stage])\n"
     ]
    },
    {
     "ename": "OSError",
     "evalue": "No such file or directory: '/workspaces/mlops-zoomcamp/03-training/experiment_tracking/mlruns/4/ed7175b8c6854619af44473c42d9c443/artifacts/model/.'",
     "output_type": "error",
     "traceback": [
      "\u001b[0;31m---------------------------------------------------------------------------\u001b[0m",
      "\u001b[0;31mOSError\u001b[0m                                   Traceback (most recent call last)",
      "File \u001b[0;32m<timed eval>:1\u001b[0m\n",
      "Cell \u001b[0;32mIn[70], line 31\u001b[0m, in \u001b[0;36mtest_model\u001b[0;34m(name, stage, X_test, y_test)\u001b[0m\n\u001b[1;32m     30\u001b[0m \u001b[38;5;28;01mdef\u001b[39;00m \u001b[38;5;21mtest_model\u001b[39m(name, stage, X_test, y_test):\n\u001b[0;32m---> 31\u001b[0m     model \u001b[38;5;241m=\u001b[39m \u001b[43mmlflow\u001b[49m\u001b[38;5;241;43m.\u001b[39;49m\u001b[43mpyfunc\u001b[49m\u001b[38;5;241;43m.\u001b[39;49m\u001b[43mload_model\u001b[49m\u001b[43m(\u001b[49m\u001b[38;5;124;43mf\u001b[39;49m\u001b[38;5;124;43m\"\u001b[39;49m\u001b[38;5;124;43mmodels:/\u001b[39;49m\u001b[38;5;132;43;01m{\u001b[39;49;00m\u001b[43mname\u001b[49m\u001b[38;5;132;43;01m}\u001b[39;49;00m\u001b[38;5;124;43m/\u001b[39;49m\u001b[38;5;132;43;01m{\u001b[39;49;00m\u001b[43mstage\u001b[49m\u001b[38;5;132;43;01m}\u001b[39;49;00m\u001b[38;5;124;43m\"\u001b[39;49m\u001b[43m)\u001b[49m\n\u001b[1;32m     32\u001b[0m     y_pred \u001b[38;5;241m=\u001b[39m model\u001b[38;5;241m.\u001b[39mpredict(X_test)\n\u001b[1;32m     33\u001b[0m     \u001b[38;5;28;01mreturn\u001b[39;00m {\u001b[38;5;124m\"\u001b[39m\u001b[38;5;124mrmse\u001b[39m\u001b[38;5;124m\"\u001b[39m: mean_squared_error(y_test, y_pred, squared\u001b[38;5;241m=\u001b[39m\u001b[38;5;28;01mFalse\u001b[39;00m)}\n",
      "File \u001b[0;32m~/anaconda3/envs/exp-tracking-env/lib/python3.9/site-packages/mlflow/tracing/provider.py:268\u001b[0m, in \u001b[0;36mtrace_disabled.<locals>.wrapper\u001b[0;34m(*args, **kwargs)\u001b[0m\n\u001b[1;32m    266\u001b[0m disable()\n\u001b[1;32m    267\u001b[0m \u001b[38;5;28;01mtry\u001b[39;00m:\n\u001b[0;32m--> 268\u001b[0m     is_func_called, result \u001b[38;5;241m=\u001b[39m \u001b[38;5;28;01mTrue\u001b[39;00m, \u001b[43mf\u001b[49m\u001b[43m(\u001b[49m\u001b[38;5;241;43m*\u001b[39;49m\u001b[43margs\u001b[49m\u001b[43m,\u001b[49m\u001b[43m \u001b[49m\u001b[38;5;241;43m*\u001b[39;49m\u001b[38;5;241;43m*\u001b[39;49m\u001b[43mkwargs\u001b[49m\u001b[43m)\u001b[49m\n\u001b[1;32m    269\u001b[0m \u001b[38;5;28;01mfinally\u001b[39;00m:\n\u001b[1;32m    270\u001b[0m     enable()\n",
      "File \u001b[0;32m~/anaconda3/envs/exp-tracking-env/lib/python3.9/site-packages/mlflow/pyfunc/__init__.py:1029\u001b[0m, in \u001b[0;36mload_model\u001b[0;34m(model_uri, suppress_warnings, dst_path, model_config)\u001b[0m\n\u001b[1;32m   1025\u001b[0m         entity_list\u001b[38;5;241m.\u001b[39mappend(Entity(job\u001b[38;5;241m=\u001b[39mjob_entity))\n\u001b[1;32m   1027\u001b[0m     lineage_header_info \u001b[38;5;241m=\u001b[39m LineageHeaderInfo(entities\u001b[38;5;241m=\u001b[39mentity_list) \u001b[38;5;28;01mif\u001b[39;00m entity_list \u001b[38;5;28;01melse\u001b[39;00m \u001b[38;5;28;01mNone\u001b[39;00m\n\u001b[0;32m-> 1029\u001b[0m local_path \u001b[38;5;241m=\u001b[39m \u001b[43m_download_artifact_from_uri\u001b[49m\u001b[43m(\u001b[49m\n\u001b[1;32m   1030\u001b[0m \u001b[43m    \u001b[49m\u001b[43martifact_uri\u001b[49m\u001b[38;5;241;43m=\u001b[39;49m\u001b[43mmodel_uri\u001b[49m\u001b[43m,\u001b[49m\u001b[43m \u001b[49m\u001b[43moutput_path\u001b[49m\u001b[38;5;241;43m=\u001b[39;49m\u001b[43mdst_path\u001b[49m\u001b[43m,\u001b[49m\u001b[43m \u001b[49m\u001b[43mlineage_header_info\u001b[49m\u001b[38;5;241;43m=\u001b[39;49m\u001b[43mlineage_header_info\u001b[49m\n\u001b[1;32m   1031\u001b[0m \u001b[43m\u001b[49m\u001b[43m)\u001b[49m\n\u001b[1;32m   1033\u001b[0m \u001b[38;5;28;01mif\u001b[39;00m \u001b[38;5;129;01mnot\u001b[39;00m suppress_warnings:\n\u001b[1;32m   1034\u001b[0m     model_requirements \u001b[38;5;241m=\u001b[39m _get_pip_requirements_from_model_path(local_path)\n",
      "File \u001b[0;32m~/anaconda3/envs/exp-tracking-env/lib/python3.9/site-packages/mlflow/tracking/artifact_utils.py:111\u001b[0m, in \u001b[0;36m_download_artifact_from_uri\u001b[0;34m(artifact_uri, output_path, lineage_header_info)\u001b[0m\n\u001b[1;32m    108\u001b[0m repo \u001b[38;5;241m=\u001b[39m get_artifact_repository(artifact_uri\u001b[38;5;241m=\u001b[39mroot_uri)\n\u001b[1;32m    110\u001b[0m \u001b[38;5;28;01mif\u001b[39;00m \u001b[38;5;28misinstance\u001b[39m(repo, ModelsArtifactRepository):\n\u001b[0;32m--> 111\u001b[0m     \u001b[38;5;28;01mreturn\u001b[39;00m \u001b[43mrepo\u001b[49m\u001b[38;5;241;43m.\u001b[39;49m\u001b[43mdownload_artifacts\u001b[49m\u001b[43m(\u001b[49m\n\u001b[1;32m    112\u001b[0m \u001b[43m        \u001b[49m\u001b[43martifact_path\u001b[49m\u001b[38;5;241;43m=\u001b[39;49m\u001b[43martifact_path\u001b[49m\u001b[43m,\u001b[49m\n\u001b[1;32m    113\u001b[0m \u001b[43m        \u001b[49m\u001b[43mdst_path\u001b[49m\u001b[38;5;241;43m=\u001b[39;49m\u001b[43moutput_path\u001b[49m\u001b[43m,\u001b[49m\n\u001b[1;32m    114\u001b[0m \u001b[43m        \u001b[49m\u001b[43mlineage_header_info\u001b[49m\u001b[38;5;241;43m=\u001b[39;49m\u001b[43mlineage_header_info\u001b[49m\u001b[43m,\u001b[49m\n\u001b[1;32m    115\u001b[0m \u001b[43m    \u001b[49m\u001b[43m)\u001b[49m\n\u001b[1;32m    116\u001b[0m \u001b[38;5;28;01mreturn\u001b[39;00m repo\u001b[38;5;241m.\u001b[39mdownload_artifacts(artifact_path\u001b[38;5;241m=\u001b[39martifact_path, dst_path\u001b[38;5;241m=\u001b[39moutput_path)\n",
      "File \u001b[0;32m~/anaconda3/envs/exp-tracking-env/lib/python3.9/site-packages/mlflow/store/artifact/models_artifact_repo.py:201\u001b[0m, in \u001b[0;36mModelsArtifactRepository.download_artifacts\u001b[0;34m(self, artifact_path, dst_path, lineage_header_info)\u001b[0m\n\u001b[1;32m    197\u001b[0m     model_path \u001b[38;5;241m=\u001b[39m \u001b[38;5;28mself\u001b[39m\u001b[38;5;241m.\u001b[39mrepo\u001b[38;5;241m.\u001b[39mdownload_artifacts(\n\u001b[1;32m    198\u001b[0m         artifact_path, dst_path, lineage_header_info\u001b[38;5;241m=\u001b[39mlineage_header_info\n\u001b[1;32m    199\u001b[0m     )\n\u001b[1;32m    200\u001b[0m \u001b[38;5;28;01melse\u001b[39;00m:\n\u001b[0;32m--> 201\u001b[0m     model_path \u001b[38;5;241m=\u001b[39m \u001b[38;5;28;43mself\u001b[39;49m\u001b[38;5;241;43m.\u001b[39;49m\u001b[43mrepo\u001b[49m\u001b[38;5;241;43m.\u001b[39;49m\u001b[43mdownload_artifacts\u001b[49m\u001b[43m(\u001b[49m\u001b[43martifact_path\u001b[49m\u001b[43m,\u001b[49m\u001b[43m \u001b[49m\u001b[43mdst_path\u001b[49m\u001b[43m)\u001b[49m\n\u001b[1;32m    202\u001b[0m \u001b[38;5;66;03m# NB: only add the registered model metadata iff the artifact path is at the root model\u001b[39;00m\n\u001b[1;32m    203\u001b[0m \u001b[38;5;66;03m# directory. For individual files or subdirectories within the model directory, do not\u001b[39;00m\n\u001b[1;32m    204\u001b[0m \u001b[38;5;66;03m# create the metadata file.\u001b[39;00m\n\u001b[1;32m    205\u001b[0m \u001b[38;5;28;01mif\u001b[39;00m os\u001b[38;5;241m.\u001b[39mpath\u001b[38;5;241m.\u001b[39misdir(model_path) \u001b[38;5;129;01mand\u001b[39;00m MLMODEL_FILE_NAME \u001b[38;5;129;01min\u001b[39;00m os\u001b[38;5;241m.\u001b[39mlistdir(model_path):\n",
      "File \u001b[0;32m~/anaconda3/envs/exp-tracking-env/lib/python3.9/site-packages/mlflow/store/artifact/local_artifact_repo.py:91\u001b[0m, in \u001b[0;36mLocalArtifactRepository.download_artifacts\u001b[0;34m(self, artifact_path, dst_path)\u001b[0m\n\u001b[1;32m     89\u001b[0m local_artifact_path \u001b[38;5;241m=\u001b[39m os\u001b[38;5;241m.\u001b[39mpath\u001b[38;5;241m.\u001b[39mjoin(\u001b[38;5;28mself\u001b[39m\u001b[38;5;241m.\u001b[39martifact_dir, os\u001b[38;5;241m.\u001b[39mpath\u001b[38;5;241m.\u001b[39mnormpath(artifact_path))\n\u001b[1;32m     90\u001b[0m \u001b[38;5;28;01mif\u001b[39;00m \u001b[38;5;129;01mnot\u001b[39;00m os\u001b[38;5;241m.\u001b[39mpath\u001b[38;5;241m.\u001b[39mexists(local_artifact_path):\n\u001b[0;32m---> 91\u001b[0m     \u001b[38;5;28;01mraise\u001b[39;00m \u001b[38;5;167;01mOSError\u001b[39;00m(\u001b[38;5;124mf\u001b[39m\u001b[38;5;124m\"\u001b[39m\u001b[38;5;124mNo such file or directory: \u001b[39m\u001b[38;5;124m'\u001b[39m\u001b[38;5;132;01m{\u001b[39;00mlocal_artifact_path\u001b[38;5;132;01m}\u001b[39;00m\u001b[38;5;124m'\u001b[39m\u001b[38;5;124m\"\u001b[39m)\n\u001b[1;32m     92\u001b[0m \u001b[38;5;28;01mreturn\u001b[39;00m os\u001b[38;5;241m.\u001b[39mpath\u001b[38;5;241m.\u001b[39mabspath(local_artifact_path)\n",
      "\u001b[0;31mOSError\u001b[0m: No such file or directory: '/workspaces/mlops-zoomcamp/03-training/experiment_tracking/mlruns/4/ed7175b8c6854619af44473c42d9c443/artifacts/model/.'"
     ]
    }
   ],
   "source": [
    "%time test_model(name=model_name, stage= \"Staging\", X_test=X_test, y_test=y_test)"
   ]
  },
  {
   "cell_type": "code",
   "execution_count": 82,
   "id": "64cc29d2",
   "metadata": {},
   "outputs": [
    {
     "name": "stderr",
     "output_type": "stream",
     "text": [
      "/tmp/ipykernel_3082/3610659809.py:1: FutureWarning: ``mlflow.tracking.client.MlflowClient.transition_model_version_stage`` is deprecated since 2.9.0. Model registry stages will be removed in a future major release. To learn more about the deprecation of model registry stages, see our migration guide here: https://mlflow.org/docs/latest/model-registry.html#migrating-from-stages\n",
      "  client.transition_model_version_stage(\n"
     ]
    },
    {
     "data": {
      "text/plain": [
       "<ModelVersion: aliases=[], creation_timestamp=1733747542645, current_stage='Production', description=('The model version <ModelVersion: aliases=[], '\n",
       " \"creation_timestamp=1733747542645, current_stage='None', description=None, \"\n",
       " \"last_updated_timestamp=1733747542645, name='nyc-taxi-xboost', \"\n",
       " \"run_id='ed7175b8c6854619af44473c42d9c443', run_link=None, \"\n",
       " \"source='/workspaces/mlops-zoomcamp/03-training/experiment_tracking/mlruns/4/ed7175b8c6854619af44473c42d9c443/artifacts/model', \"\n",
       " \"status='READY', status_message=None, tags={}, user_id=None, version=4> was \"\n",
       " 'transitioned to stage Staging on date 2024-12-09'), last_updated_timestamp=1733747874202, name='nyc-taxi-xboost', run_id='ed7175b8c6854619af44473c42d9c443', run_link=None, source='/workspaces/mlops-zoomcamp/03-training/experiment_tracking/mlruns/4/ed7175b8c6854619af44473c42d9c443/artifacts/model', status='READY', status_message=None, tags={}, user_id=None, version=4>"
      ]
     },
     "execution_count": 82,
     "metadata": {},
     "output_type": "execute_result"
    }
   ],
   "source": [
    "client.transition_model_version_stage(\n",
    "    name=model_name,\n",
    "    version=4,\n",
    "    stage=\"Production\",\n",
    "    archive_existing_versions=True\n",
    ")"
   ]
  },
  {
   "cell_type": "code",
   "execution_count": null,
   "id": "228676a3",
   "metadata": {},
   "outputs": [],
   "source": []
  }
 ],
 "metadata": {
  "kernelspec": {
   "display_name": "Python 3",
   "language": "python",
   "name": "python3"
  },
  "language_info": {
   "codemirror_mode": {
    "name": "ipython",
    "version": 3
   },
   "file_extension": ".py",
   "mimetype": "text/x-python",
   "name": "python",
   "nbconvert_exporter": "python",
   "pygments_lexer": "ipython3",
   "version": "3.9.20"
  }
 },
 "nbformat": 4,
 "nbformat_minor": 5
}
